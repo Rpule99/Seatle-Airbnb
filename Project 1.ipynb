{
 "cells": [
  {
   "cell_type": "code",
   "execution_count": null,
   "metadata": {},
   "outputs": [],
   "source": [
    "import numpy as np\n",
    "import pandas as pd\n",
    "import matplotlib.pyplot as plt\n",
    "import random\n",
    "from sklearn.linear_model import LinearRegression\n",
    "from sklearn.model_selection import train_test_split\n",
    "from sklearn.metrics import r2_score, mean_squared_error\n",
    "from sklearn.preprocessing import StandardScaler\n",
    "import seaborn as sns\n",
    "import nltk\n",
    "from nltk.corpus import stopwords\n",
    "from nltk.tokenize import word_tokenize\n",
    "from nltk.util import ngrams\n",
    "import string\n",
    "from sklearn.metrics import mean_absolute_error\n",
    "%matplotlib inline\n",
    "from nltk.sentiment.vader import SentimentIntensityAnalyzer\n",
    "sia= SentimentIntensityAnalyzer()"
   ]
  },
  {
   "cell_type": "code",
   "execution_count": null,
   "metadata": {},
   "outputs": [],
   "source": [
    "nltk.download('punkt')\n",
    "nltk.download('stopwords')\n",
    "nltk.download('vader_lexicon')"
   ]
  },
  {
   "cell_type": "code",
   "execution_count": null,
   "metadata": {},
   "outputs": [],
   "source": [
    "# Data Read in\n",
    "Calendar = pd.read_csv('calendar.csv')\n",
    "listings = pd.read_csv('listings.csv')\n",
    "reviews  = pd.read_csv('reviews.csv')\n"
   ]
  },
  {
   "cell_type": "code",
   "execution_count": null,
   "metadata": {},
   "outputs": [],
   "source": [
    "Calendar.head()"
   ]
  },
  {
   "cell_type": "code",
   "execution_count": null,
   "metadata": {},
   "outputs": [],
   "source": [
    "listings.head()"
   ]
  },
  {
   "cell_type": "code",
   "execution_count": null,
   "metadata": {},
   "outputs": [],
   "source": [
    "reviews.head()"
   ]
  },
  {
   "cell_type": "code",
   "execution_count": null,
   "metadata": {},
   "outputs": [],
   "source": [
    "Calendar.head()"
   ]
  },
  {
   "cell_type": "code",
   "execution_count": null,
   "metadata": {},
   "outputs": [],
   "source": [
    "# Calandar Transform\n",
    "Calendar['date'] = pd.to_datetime(Calendar['date'], format = '%Y-%m-%d') #date\n",
    "#Remove Dollar sign\n",
    "Calendar['price'] = Calendar['price'].replace('[\\$,]', '', regex=True).astype(float)\n",
    "\n",
    "Calendar.head()\n",
    " "
   ]
  },
  {
   "cell_type": "code",
   "execution_count": null,
   "metadata": {},
   "outputs": [],
   "source": [
    "#Check Price column\n",
    "Calendar['price'].unique()\n",
    "\n"
   ]
  },
  {
   "cell_type": "code",
   "execution_count": null,
   "metadata": {},
   "outputs": [],
   "source": [
    "#check availability %\n",
    "vals = Calendar.available.value_counts()\n",
    "(vals/Calendar.shape[0]).plot(kind=\"bar\");"
   ]
  },
  {
   "cell_type": "code",
   "execution_count": null,
   "metadata": {},
   "outputs": [],
   "source": [
    "vals"
   ]
  },
  {
   "cell_type": "code",
   "execution_count": null,
   "metadata": {},
   "outputs": [],
   "source": [
    "## See pricing over time for 3 random listings\n",
    "\n",
    "#first sample 3 listings \n",
    "\n",
    "ids = Calendar.listing_id.unique()\n"
   ]
  },
  {
   "cell_type": "code",
   "execution_count": null,
   "metadata": {},
   "outputs": [],
   "source": [
    "random.seed(40)\n",
    "Ids = list(random.choices(ids, k = 1)) \n",
    "Ids"
   ]
  },
  {
   "cell_type": "code",
   "execution_count": null,
   "metadata": {},
   "outputs": [],
   "source": [
    "#then Check their price remove when not available\n",
    "\n",
    "df_sample = Calendar.loc[Calendar['listing_id'].isin(Ids)]\n",
    "df_sample = df_sample.loc[df_sample['available'] == 't']\n",
    "df_sample"
   ]
  },
  {
   "cell_type": "code",
   "execution_count": null,
   "metadata": {},
   "outputs": [],
   "source": [
    "df_sample"
   ]
  },
  {
   "cell_type": "code",
   "execution_count": null,
   "metadata": {},
   "outputs": [],
   "source": [
    "df_sample_2 = df_sample.drop('available', axis = 1)"
   ]
  },
  {
   "cell_type": "code",
   "execution_count": null,
   "metadata": {},
   "outputs": [],
   "source": [
    "df_sample_2"
   ]
  },
  {
   "cell_type": "code",
   "execution_count": null,
   "metadata": {},
   "outputs": [],
   "source": [
    "df_sample_2['listing_id'] = df_sample_2['listing_id'].astype(str)"
   ]
  },
  {
   "cell_type": "code",
   "execution_count": null,
   "metadata": {},
   "outputs": [],
   "source": [
    "df_sample_2.plot(x = 'date', y = 'price' ); ## Prices don't flactuate a lot through out the year"
   ]
  },
  {
   "cell_type": "code",
   "execution_count": null,
   "metadata": {},
   "outputs": [],
   "source": [
    "Calendar.describe()"
   ]
  },
  {
   "cell_type": "code",
   "execution_count": null,
   "metadata": {},
   "outputs": [],
   "source": []
  },
  {
   "cell_type": "code",
   "execution_count": null,
   "metadata": {},
   "outputs": [],
   "source": [
    "## lets see which month is busy (where available = F) but first we need to see if when available is false is it occupied\n",
    "Calendar[Calendar]"
   ]
  },
  {
   "cell_type": "code",
   "execution_count": null,
   "metadata": {},
   "outputs": [],
   "source": [
    "df_sample = Calendar.loc[Calendar['available'] == 't']"
   ]
  },
  {
   "cell_type": "code",
   "execution_count": null,
   "metadata": {},
   "outputs": [],
   "source": [
    "sample = df_sample.groupby(['listing_id', df_sample['date'].dt.to_period(\"M\")]).agg({'price':'mean'}).reset_index()"
   ]
  },
  {
   "cell_type": "code",
   "execution_count": null,
   "metadata": {},
   "outputs": [],
   "source": [
    "# See which month has high price\n",
    "sample_2 = sample.groupby(['date']).agg({'price':'mean'}).reset_index()\n",
    "sample_2\n"
   ]
  },
  {
   "cell_type": "code",
   "execution_count": null,
   "metadata": {},
   "outputs": [],
   "source": [
    "sample_2.plot(x = 'date', y='price', kind = 'bar');"
   ]
  },
  {
   "cell_type": "code",
   "execution_count": null,
   "metadata": {},
   "outputs": [],
   "source": [
    "#plot Average prices across the months\n",
    "sample_2.plot(x='date', y='price', kind='bar', color='skyblue', figsize=(10, 6))\n",
    "plt.xlabel('Month')\n",
    "plt.ylabel('Avg Price')\n",
    "plt.title('Average Price against Months')\n",
    "plt.xticks(rotation=45, ha='right')\n",
    "plt.show()"
   ]
  },
  {
   "cell_type": "code",
   "execution_count": null,
   "metadata": {},
   "outputs": [],
   "source": [
    "df_sample"
   ]
  },
  {
   "cell_type": "code",
   "execution_count": null,
   "metadata": {},
   "outputs": [],
   "source": [
    "## Check which listing has a high month price differential\n",
    "\n",
    "sample_diff = sample.groupby('listing_id')['price'].agg(lambda x: x.max() - x.min()).reset_index()\n",
    "sample_diff.rename(columns={'price': 'price_difference'}, inplace=True)\n",
    "sample_diff\n"
   ]
  },
  {
   "cell_type": "code",
   "execution_count": null,
   "metadata": {},
   "outputs": [],
   "source": [
    "sample_diff.sort_values(by = 'price_difference', ascending = False)"
   ]
  },
  {
   "cell_type": "code",
   "execution_count": null,
   "metadata": {},
   "outputs": [],
   "source": [
    "avg_change = sample_diff['price_difference'].mean()\n",
    "min_change = sample_diff['price_difference'].min()\n",
    "max_change = sample_diff['price_difference'].max()\n",
    "DF_Sum = pd.DataFrame({\n",
    "    'Average': [avg_change],\n",
    "    'Min': [min_change],\n",
    "    'Max': [max_change]\n",
    "})\n",
    "DF_Sum"
   ]
  },
  {
   "cell_type": "code",
   "execution_count": null,
   "metadata": {},
   "outputs": [],
   "source": [
    "hist = sample_diff.hist(column='price_difference', figsize=(12, 6))\n",
    "plt.axvline(x=sample_diff['price_difference'].mean(), color='red', linestyle='--', label='Average')\n",
    "plt.title('Distribution of of Price Differences')\n",
    "plt.xlabel('Price Diffrence')\n",
    "plt.ylabel('Frequency')\n",
    "\n",
    "\n",
    "plt.show()"
   ]
  },
  {
   "cell_type": "code",
   "execution_count": null,
   "metadata": {},
   "outputs": [],
   "source": [
    "#Calendar.loc[Calendar['available'] == 't']\n",
    "listings.loc[listings['id'] == 3308979]"
   ]
  },
  {
   "cell_type": "code",
   "execution_count": null,
   "metadata": {},
   "outputs": [],
   "source": [
    "## See the reviews vs price\n",
    "listings.head(5)"
   ]
  },
  {
   "cell_type": "code",
   "execution_count": null,
   "metadata": {},
   "outputs": [],
   "source": [
    "#check which listings don't have reviews per month\n",
    "listings['reviews_per_month'].isna().sum()/listings.shape[0]"
   ]
  },
  {
   "cell_type": "code",
   "execution_count": null,
   "metadata": {},
   "outputs": [],
   "source": [
    "Calendar.groupby('listing_id').agg({'price':'mean'}).reset_index()"
   ]
  },
  {
   "cell_type": "code",
   "execution_count": null,
   "metadata": {},
   "outputs": [],
   "source": [
    "#lets join listings with price because this port we plan on doing averege reviews per price\n",
    "#first lets get average price for listings\n",
    "calendar_avg = Calendar.groupby('listing_id').agg({'price':'mean'}).reset_index()\n",
    "calendar_avg.rename(columns={'listing_id': 'id', 'price':'avg_price'}, inplace = True)\n",
    "calendar_avg"
   ]
  },
  {
   "cell_type": "code",
   "execution_count": null,
   "metadata": {},
   "outputs": [],
   "source": [
    "#join\n",
    "listings_calendar = pd.merge(listings, calendar_avg, on = 'id', how = 'left')\n",
    "listings_calendar"
   ]
  },
  {
   "cell_type": "code",
   "execution_count": null,
   "metadata": {},
   "outputs": [],
   "source": [
    "listings_calendar.columns"
   ]
  },
  {
   "cell_type": "code",
   "execution_count": null,
   "metadata": {},
   "outputs": [],
   "source": [
    "# Check review scores vs price\n",
    "scores = listings_calendar[['id', 'name', 'description','review_scores_rating', 'reviews_per_month','avg_price']]\n",
    "scores.head()"
   ]
  },
  {
   "cell_type": "code",
   "execution_count": null,
   "metadata": {},
   "outputs": [],
   "source": [
    "scores['id'].nunique()/scores.shape[0] #no duplicates"
   ]
  },
  {
   "cell_type": "code",
   "execution_count": null,
   "metadata": {},
   "outputs": [],
   "source": [
    "# Remove listings without price and rating\n",
    "#first check percentage we would be losing\n",
    "(scores[['review_scores_rating', 'avg_price']].isna().any(axis=1).sum() * 100)/scores.shape[0]"
   ]
  },
  {
   "cell_type": "code",
   "execution_count": null,
   "metadata": {},
   "outputs": [],
   "source": [
    "#then remove rows\n",
    "scores_clean = scores.dropna(subset=['review_scores_rating', 'avg_price'])\n"
   ]
  },
  {
   "cell_type": "code",
   "execution_count": null,
   "metadata": {},
   "outputs": [],
   "source": [
    "#check\n",
    "(scores_clean[['review_scores_rating', 'avg_price']].isna().any(axis=1).sum() * 100)/scores_clean.shape[0]"
   ]
  },
  {
   "cell_type": "code",
   "execution_count": null,
   "metadata": {},
   "outputs": [],
   "source": [
    "# check scatter of price against reviews\n",
    "plt.scatter(x= scores_clean['review_scores_rating'], y = scores_clean['avg_price'])\n",
    "plt.xlabel('Review Scores')\n",
    "plt.ylabel('Average Price')\n",
    "plt.title('Review Scores against average price')\n",
    "\n",
    "plt.show()\n"
   ]
  },
  {
   "cell_type": "code",
   "execution_count": null,
   "metadata": {},
   "outputs": [],
   "source": [
    "#check correlation \n",
    "correlation = scores_clean['review_scores_rating'].corr(scores_clean['avg_price'])\n",
    "correlation\n"
   ]
  },
  {
   "cell_type": "code",
   "execution_count": null,
   "metadata": {},
   "outputs": [],
   "source": [
    "scores_clean['avg_price'].mean()"
   ]
  },
  {
   "cell_type": "code",
   "execution_count": null,
   "metadata": {},
   "outputs": [],
   "source": [
    "buckets = [0, 10, 20, 30, 40, 50, 60, 70, 80, 90, 100]\n",
    "scores_clean['Review_bucket'] = pd.cut(scores_clean['review_scores_rating'], bins=buckets)\n",
    "scores_clean.head()"
   ]
  },
  {
   "cell_type": "code",
   "execution_count": null,
   "metadata": {},
   "outputs": [],
   "source": [
    "#groupby('listing_id').agg({'price':'mean'}).reset_index()\n",
    "review_per_price = scores_clean.groupby('Review_bucket')['avg_price'].mean().reset_index()"
   ]
  },
  {
   "cell_type": "code",
   "execution_count": null,
   "metadata": {},
   "outputs": [],
   "source": [
    "review_per_price"
   ]
  },
  {
   "cell_type": "code",
   "execution_count": null,
   "metadata": {},
   "outputs": [],
   "source": [
    "review_per_price.plot(x = 'Review_bucket', y = 'avg_price',  kind = 'bar');\n",
    "plt.xlabel('Review Bucket')\n",
    "plt.ylabel('Average Price')\n",
    "plt.title('Average Price vs. Review Bucket') "
   ]
  },
  {
   "cell_type": "code",
   "execution_count": null,
   "metadata": {},
   "outputs": [],
   "source": [
    "#So the highest price average got and average rating score, not not all highly priced bnbs have high review scores. also nice to see the counts\n",
    "counts = pd.DataFrame(scores_clean['Review_bucket'].astype(str).value_counts().reset_index())\n",
    "counts.columns = ['Review_bucket', 'Counts']\n",
    "counts\n"
   ]
  },
  {
   "cell_type": "code",
   "execution_count": null,
   "metadata": {},
   "outputs": [],
   "source": [
    "scores_clean.dtypes"
   ]
  },
  {
   "cell_type": "code",
   "execution_count": null,
   "metadata": {},
   "outputs": [],
   "source": [
    "#lets create box plot\n",
    "#the_90s = scores_clean[scores_clean['Review_bucket'] == pd.Interval(90, 100, closed='right')]\n",
    "plt.figure(figsize=(100, 6))\n",
    "scores_clean.boxplot(column = 'avg_price', by = 'Review_bucket', showfliers=False, vert=True);\n",
    "plt.title(f'Boxplot of avg_price against Buckets')\n",
    "plt.xlabel('Buckets')\n",
    "plt.ylabel('avg_price')\n",
    "plt.suptitle('')\n",
    "plt.show()"
   ]
  },
  {
   "cell_type": "code",
   "execution_count": null,
   "metadata": {},
   "outputs": [],
   "source": [
    "#now lets try to check the sentiment of reviews to check against the price\n",
    "reviews.head()"
   ]
  },
  {
   "cell_type": "code",
   "execution_count": null,
   "metadata": {},
   "outputs": [],
   "source": [
    "#steps\n",
    "# 1. remove stop words\n",
    "# 2. Tokenise the comments (try unigrams, then bigrams (for negating words))\n",
    "# 3. get sentiments\n",
    "# 4. adjust for negation\n",
    "listings_calendar.head()\n"
   ]
  },
  {
   "cell_type": "code",
   "execution_count": null,
   "metadata": {},
   "outputs": [],
   "source": [
    "#select nessesary columns\n",
    "reviews_1 = reviews[['listing_id','id','comments']]\n",
    "reviews_1.head()\n"
   ]
  },
  {
   "cell_type": "code",
   "execution_count": null,
   "metadata": {},
   "outputs": [],
   "source": [
    "#create function that tokenizes and removes stopwords/punctuation\n",
    "def Tokenize (text, n = 2):\n",
    "    text_no_pun = text.translate(str.maketrans(\"\",\"\", string.punctuation))#remove punctuation\n",
    "    stop_words = set(stopwords.words('english')) #get stop word\n",
    "    tokens = word_tokenize(text_no_pun)\n",
    "    removed_stop = [word for word in tokens if word.lower() not in stop_words] #remove stop words\n",
    "    bingrams = list(ngrams(removed_stop, n)) # bigrams\n",
    "    return bingrams"
   ]
  },
  {
   "cell_type": "code",
   "execution_count": null,
   "metadata": {},
   "outputs": [],
   "source": [
    "string.punctuation"
   ]
  },
  {
   "cell_type": "code",
   "execution_count": null,
   "metadata": {},
   "outputs": [],
   "source": [
    "#Tokenize\n",
    "reviews_1['comments'] = reviews_1['comments'].astype(str)\n",
    "reviews_1['comments_bigrams'] = reviews_1['comments'].apply(Tokenize)\n",
    "reviews_1"
   ]
  },
  {
   "cell_type": "code",
   "execution_count": null,
   "metadata": {},
   "outputs": [],
   "source": [
    "reviews_final = reviews_1.explode('comments_bigrams').reset_index()\n",
    "reviews_final"
   ]
  },
  {
   "cell_type": "code",
   "execution_count": null,
   "metadata": {},
   "outputs": [],
   "source": [
    "reviews_final.drop('index', axis=1, inplace=True)"
   ]
  },
  {
   "cell_type": "code",
   "execution_count": null,
   "metadata": {},
   "outputs": [],
   "source": [
    "reviews_final"
   ]
  },
  {
   "cell_type": "code",
   "execution_count": null,
   "metadata": {},
   "outputs": [],
   "source": [
    "#Split bigrams \n",
    "reviews_final[['word_1', 'word_2']] = pd.DataFrame(reviews_final['comments_bigrams'].tolist(), index=reviews_final.index)"
   ]
  },
  {
   "cell_type": "code",
   "execution_count": null,
   "metadata": {},
   "outputs": [],
   "source": [
    "reviews_final"
   ]
  },
  {
   "cell_type": "code",
   "execution_count": null,
   "metadata": {},
   "outputs": [],
   "source": [
    "#Check which words are common\n",
    "reviews_final['word_1'].str.lower().mode()[0]"
   ]
  },
  {
   "cell_type": "code",
   "execution_count": null,
   "metadata": {},
   "outputs": [],
   "source": [
    "common_words = pd.DataFrame(reviews_final['word_1'].value_counts().head(10))\n",
    "common_words = common_words.rename(columns={'word_1': 'count', ' ': 'words'})\n",
    "common_words\n"
   ]
  },
  {
   "cell_type": "code",
   "execution_count": null,
   "metadata": {},
   "outputs": [],
   "source": [
    "#since doing sentiment is proving defficult due to foreign words lets use the scores and see which variables prove imported in avrege scoring\n",
    "listings_calendar.columns\n",
    "listings_calendar.shape[1]"
   ]
  },
  {
   "cell_type": "code",
   "execution_count": null,
   "metadata": {},
   "outputs": [],
   "source": [
    "pd.set_option('display.max_columns', None)"
   ]
  },
  {
   "cell_type": "code",
   "execution_count": null,
   "metadata": {},
   "outputs": [],
   "source": [
    "#remove unessesary columns (names and descriptions)\n",
    "Raw_Data = listings_calendar[['id', 'experiences_offered','host_location', 'host_response_time',\n",
    "       'host_response_rate', 'host_acceptance_rate', 'host_is_superhost', 'host_neighbourhood',\n",
    "       'host_listings_count', 'host_total_listings_count', 'host_verifications', 'host_has_profile_pic', 'host_identity_verified',\n",
    "       'street', 'neighbourhood', 'neighbourhood_cleansed',\n",
    "       'neighbourhood_group_cleansed', 'city', 'state', 'zipcode', 'market',\n",
    "       'smart_location', 'country_code', 'country', 'latitude', 'longitude',\n",
    "       'is_location_exact', 'property_type', 'room_type', 'accommodates',\n",
    "       'bathrooms', 'bedrooms', 'beds', 'bed_type', 'amenities', 'square_feet',\n",
    "       'price', 'weekly_price', 'monthly_price', 'security_deposit',\n",
    "       'cleaning_fee', 'guests_included', 'extra_people', 'minimum_nights',\n",
    "       'maximum_nights', 'calendar_updated', 'has_availability',\n",
    "       'availability_30', 'availability_60', 'availability_90', 'calendar_last_scraped', 'number_of_reviews',\n",
    "       'first_review', 'last_review', 'review_scores_rating',\n",
    "       'review_scores_accuracy', 'review_scores_cleanliness',\n",
    "       'review_scores_checkin', 'review_scores_communication',\n",
    "       'review_scores_location', 'review_scores_value', 'requires_license',\n",
    "       'license', 'jurisdiction_names', 'instant_bookable',\n",
    "       'cancellation_policy', 'require_guest_profile_picture',\n",
    "       'require_guest_phone_verification', 'calculated_host_listings_count',\n",
    "       'reviews_per_month', 'avg_price']]"
   ]
  },
  {
   "cell_type": "code",
   "execution_count": null,
   "metadata": {},
   "outputs": [],
   "source": [
    "Raw_Data.shape[1]"
   ]
  },
  {
   "cell_type": "code",
   "execution_count": null,
   "metadata": {},
   "outputs": [],
   "source": [
    "# lets check nulls to see what we remove \n",
    "NAS_percentage = (Raw_Data.isnull().mean() * 100).round(2)\n",
    "NAS_percentage[NAS_percentage > 25] #license is completly null, other have high nulls, we will remove these columns with 25% high nulls especially with just 3.8 rows that would create a biased model"
   ]
  },
  {
   "cell_type": "code",
   "execution_count": null,
   "metadata": {},
   "outputs": [],
   "source": [
    "NAS_percentage"
   ]
  },
  {
   "cell_type": "code",
   "execution_count": null,
   "metadata": {},
   "outputs": [],
   "source": [
    "#drop columns NA greater than 25%\n",
    "threshold = len(Raw_Data) * 0.25\n",
    "Raw_Data_1 = Raw_Data.dropna(axis=1, thresh=threshold)"
   ]
  },
  {
   "cell_type": "code",
   "execution_count": null,
   "metadata": {},
   "outputs": [],
   "source": [
    "raw_catagorical = Raw_Data_1.select_dtypes(include=['object', 'category'])"
   ]
  },
  {
   "cell_type": "code",
   "execution_count": null,
   "metadata": {},
   "outputs": [],
   "source": [
    "raw_catagorical.head()\n",
    "\n",
    "raw_catagorical.neighbourhood.unique()\n",
    "\n",
    "#zip code is like the areas so we will see if we can get it else where"
   ]
  },
  {
   "cell_type": "code",
   "execution_count": null,
   "metadata": {},
   "outputs": [],
   "source": [
    "#Checking for columns that have low variance or low unique values (for catagorical), we not removing binary columns\n",
    "pd.set_option('display.max_columns', None)\n",
    "Raw_Data_1.select_dtypes(include='number')"
   ]
  },
  {
   "cell_type": "code",
   "execution_count": null,
   "metadata": {},
   "outputs": [],
   "source": [
    "dropped_columns = ['experiences_offered','host_acceptance_rate', 'city', 'state', 'market', 'smart_location', 'country_code', 'country', 'latitude', 'longitude', 'is_location_exact', 'has_availability', \n",
    "                   'calendar_last_scraped', 'review_scores_accuracy', 'review_scores_cleanliness', 'review_scores_checkin', 'calendar_updated', 'calendar_last_scraped', 'jurisdiction_names', 'first_review', 'last_review', 'host_listings_count',\n",
    "                   'latitude', 'longitude', 'review_scores_accuracy', 'review_scores_cleanliness',  'review_scores_checkin', 'review_scores_communication', 'review_scores_location', 'review_scores_value', 'calculated_host_listings_count', 'reviews_per_month',\n",
    "                   'neighbourhood']"
   ]
  },
  {
   "cell_type": "code",
   "execution_count": null,
   "metadata": {},
   "outputs": [],
   "source": [
    "len(dropped_columns)"
   ]
  },
  {
   "cell_type": "code",
   "execution_count": null,
   "metadata": {},
   "outputs": [],
   "source": [
    "#lets see which neighbourhoods get the most average views. Can see we can remove neighbourhoods as it doesn't give any information\n",
    "df_cleaned = Raw_Data_1.dropna(subset=['review_scores_rating', 'neighbourhood'])\n",
    "df_sorted = df_cleaned.sort_values(by='review_scores_rating', ascending=False)\n",
    "plt.figure(figsize=(100, 6))\n",
    "plt.bar(df_sorted['neighbourhood'], df_sorted['review_scores_rating'], color='skyblue')\n",
    "plt.xlabel('Neighborhood')\n",
    "plt.ylabel('Review Score')\n",
    "plt.title('Neighborhoods with the Highest Reviews')\n",
    "plt.show()\n"
   ]
  },
  {
   "cell_type": "code",
   "execution_count": null,
   "metadata": {},
   "outputs": [],
   "source": [
    "average_ratings = Raw_Data_1.groupby('neighbourhood')['review_scores_rating'].mean().reset_index()\n",
    "average_ratings"
   ]
  },
  {
   "cell_type": "code",
   "execution_count": null,
   "metadata": {},
   "outputs": [],
   "source": [
    "#which ameneties result in high reviews\n",
    "Raw_Data_1.head()\n",
    "\n",
    "columns = ['property_type','accommodates', 'bathrooms','bedrooms','beds','bed_type','amenities','avg_price','review_scores_rating']"
   ]
  },
  {
   "cell_type": "code",
   "execution_count": null,
   "metadata": {},
   "outputs": [],
   "source": [
    "raw_ameneties = Raw_Data_1[columns]\n",
    "raw_ameneties.head()"
   ]
  },
  {
   "cell_type": "code",
   "execution_count": null,
   "metadata": {},
   "outputs": [],
   "source": [
    "#remove where Y is nan\n",
    "raw_ameneties_1 = raw_ameneties.dropna(subset=['review_scores_rating'])\n",
    "raw_ameneties_1.head()\n",
    "raw_ameneties_1.shape"
   ]
  },
  {
   "cell_type": "code",
   "execution_count": null,
   "metadata": {},
   "outputs": [],
   "source": [
    "#hot encode property and bed_type\n",
    "raw_ameneties_1['bed_type'].unique()"
   ]
  },
  {
   "cell_type": "code",
   "execution_count": null,
   "metadata": {},
   "outputs": [],
   "source": [
    "encoded_ameneties = pd.get_dummies(raw_ameneties_1, columns=['property_type', 'bed_type'], prefix=['property_type', 'bed_type'])"
   ]
  },
  {
   "cell_type": "code",
   "execution_count": null,
   "metadata": {},
   "outputs": [],
   "source": [
    "encoded_ameneties.shape\n"
   ]
  },
  {
   "cell_type": "code",
   "execution_count": null,
   "metadata": {},
   "outputs": [],
   "source": [
    "#extract amenities and encode\n",
    "amenities_dummies = encoded_ameneties['amenities'].str.extractall(r'\"(.*?)\"')[0].str.get_dummies().max(level=0)\n",
    "amenities_dummies\n",
    "#append amenities\n",
    "amenities_dummies_final = pd.concat([encoded_ameneties, amenities_dummies], axis=1)\n",
    "amenities_dummies_final"
   ]
  },
  {
   "cell_type": "code",
   "execution_count": null,
   "metadata": {},
   "outputs": [],
   "source": [
    "amenities_dummies_final = amenities_dummies_final.drop(columns = 'amenities')"
   ]
  },
  {
   "cell_type": "code",
   "execution_count": null,
   "metadata": {},
   "outputs": [],
   "source": [
    "#reduced corr plot\n",
    "amenities_dummies_final_1 = amenities_dummies_final[['bathrooms', 'bedrooms', 'beds', 'review_scores_rating', 'Buzzer/Wireless Intercom', 'Family/Kid Friendly', 'avg_price']]\n",
    " # Select only numeric columns for correlation matrix\n",
    "numeric_columns = amenities_dummies_final_1.select_dtypes(include='number')\n",
    "\n",
    "# Calculate the correlation matrix\n",
    "correlation_matrix = numeric_columns.corr()\n",
    "\n",
    "# Plot the heatmap\n",
    "plt.figure(figsize=(10,5))\n",
    "sns.heatmap(correlation_matrix, annot=True, cmap='coolwarm', linewidths=.5)\n",
    "plt.title('Correlation Matrix')\n",
    "plt.show()\n",
    "\n"
   ]
  },
  {
   "cell_type": "code",
   "execution_count": null,
   "metadata": {},
   "outputs": [],
   "source": [
    " # Select only numeric columns for correlation matrix\n",
    "numeric_columns = amenities_dummies_final.select_dtypes(include='number')\n",
    "\n",
    "# Calculate the correlation matrix\n",
    "correlation_matrix = numeric_columns.corr()\n",
    "\n",
    "# Plot the heatmap\n",
    "plt.figure(figsize=(50,20))\n",
    "sns.heatmap(correlation_matrix, annot=True, cmap='coolwarm', linewidths=.5)\n",
    "plt.title('Correlation Matrix')\n",
    "plt.show()\n",
    "\n",
    "#high correlation with accomodates and number of bedrooms, beds and bathrooms, "
   ]
  },
  {
   "cell_type": "code",
   "execution_count": null,
   "metadata": {},
   "outputs": [],
   "source": [
    "#drop accomodates and beds\n",
    "amenities_dummies_final = amenities_dummies_final.drop(columns=['accommodates', 'beds'])\n",
    "numeric_columns = amenities_dummies_final.select_dtypes(include='number')\n",
    "\n",
    "# Calculate the correlation matrix\n",
    "correlation_matrix = numeric_columns.corr()\n",
    "\n",
    "# Plot the heatmap\n",
    "plt.figure(figsize=(50,20))\n",
    "sns.heatmap(correlation_matrix, annot=True, cmap='coolwarm', linewidths=.5)\n",
    "plt.title('Correlation Matrix')\n",
    "plt.show()"
   ]
  },
  {
   "cell_type": "code",
   "execution_count": null,
   "metadata": {},
   "outputs": [],
   "source": [
    "#see other correlated variables and drop\n",
    "upper = correlation_matrix.abs().where(np.triu(np.ones(correlation_matrix.abs().shape), k=1).astype(bool))\n",
    "to_drop = [column for column in upper.columns if any(upper[column] > 0.70)]"
   ]
  },
  {
   "cell_type": "code",
   "execution_count": null,
   "metadata": {},
   "outputs": [],
   "source": [
    "amenities_dummies_final.drop(to_drop, axis=1, inplace=True)\n",
    "numeric_columns = amenities_dummies_final.select_dtypes(include='number')\n",
    "# Calculate the correlation matrix\n",
    "correlation_matrix = numeric_columns.corr()\n",
    "\n",
    "# Plot the heatmap\n",
    "plt.figure(figsize=(50,20))\n",
    "sns.heatmap(correlation_matrix, annot=True, cmap='coolwarm', linewidths=.5)\n",
    "plt.title('Correlation Matrix')\n",
    "plt.show()"
   ]
  }
 ],
 "metadata": {
  "kernelspec": {
   "display_name": "Python 3",
   "language": "python",
   "name": "python3"
  },
  "language_info": {
   "codemirror_mode": {
    "name": "ipython",
    "version": 3
   },
   "file_extension": ".py",
   "mimetype": "text/x-python",
   "name": "python",
   "nbconvert_exporter": "python",
   "pygments_lexer": "ipython3",
   "version": "3.7.4"
  }
 },
 "nbformat": 4,
 "nbformat_minor": 2
}
